{
 "cells": [
  {
   "cell_type": "code",
   "execution_count": 1,
   "id": "1a3b7450",
   "metadata": {},
   "outputs": [
    {
     "name": "stderr",
     "output_type": "stream",
     "text": [
      "Deepxde backend not selected or invalid. Assuming tensorflow.compat.v1 for now.\n",
      "Using backend: tensorflow\n",
      "\n"
     ]
    },
    {
     "name": "stdout",
     "output_type": "stream",
     "text": [
      "Setting the default backend to \"pytorch\". You can change it in the ~/.deepxde/config.json file or export the DDEBACKEND environment variable. Valid options are: tensorflow.compat.v1, tensorflow, pytorch, jax (all lowercase)\n"
     ]
    },
    {
     "name": "stderr",
     "output_type": "stream",
     "text": [
      "2024-08-14 20:14:15.545090: W tensorflow/stream_executor/platform/default/dso_loader.cc:64] Could not load dynamic library 'libcudart.so.11.0'; dlerror: libcudart.so.11.0: cannot open shared object file: No such file or directory\n",
      "2024-08-14 20:14:15.545116: I tensorflow/stream_executor/cuda/cudart_stub.cc:29] Ignore above cudart dlerror if you do not have a GPU set up on your machine.\n"
     ]
    }
   ],
   "source": [
    "import matplotlib.pyplot as plt\n",
    "import numpy as np\n",
    "\n",
    "import deepxde1 as dde\n",
    "from deepxde1.backend import tf"
   ]
  },
  {
   "cell_type": "code",
   "execution_count": 2,
   "id": "156a8d2b",
   "metadata": {},
   "outputs": [],
   "source": [
    "def heat_eq_exact_solution(x, t):\n",
    "    \"\"\"\n",
    "    Returns the exact solution for a given x and t (for sinusoidal initial conditions).\n",
    "    \n",
    "    Parameters\n",
    "    ----------\n",
    "    x : np.ndarray\n",
    "    t : np.ndarray\n",
    "    \"\"\"\n",
    "    \n",
    "    return np.exp(-(n**2*np.pi**2*a*t)/(L**2))*np.sin(n*np.pi*x/L)"
   ]
  },
  {
   "cell_type": "code",
   "execution_count": 3,
   "id": "09cdd73a",
   "metadata": {},
   "outputs": [],
   "source": [
    "def gen_exact_solution():\n",
    "    \"\"\"\n",
    "    Generates exact solution for the heat equation for the given values of x and t.\n",
    "    \"\"\"\n",
    "    \n",
    "    # Number of points in each dimension:\n",
    "    x_dim, t_dim = (256, 201)\n",
    "\n",
    "    # Bounds of 'x' and 't':\n",
    "    x_min, t_min = (0, 0.)\n",
    "    x_max, t_max = (L, 1.)\n",
    "\n",
    "    # Create tensors:\n",
    "    t = np.linspace(t_min, t_max, num=t_dim).reshape(t_dim, 1)\n",
    "    x = np.linspace(x_min, x_max, num=x_dim).reshape(x_dim, 1)\n",
    "    usol = np.zeros((x_dim, t_dim)).reshape(x_dim, t_dim)\n",
    "\n",
    "    # Obtain the value of the exact solution for each generated point:\n",
    "    for i in range(x_dim):\n",
    "        for j in range(t_dim):\n",
    "            usol[i][j] = heat_eq_exact_solution(x[i],t[j])\n",
    "\n",
    "    # Save solution:\n",
    "    np.savez('heat_eq_data', x=x, t=t, usol=usol)\n",
    "    data = np.load('heat_eq_data.npz')"
   ]
  },
  {
   "cell_type": "code",
   "execution_count": 4,
   "id": "003b19f9",
   "metadata": {},
   "outputs": [],
   "source": [
    "def gen_testdata():\n",
    "    \"\"\"\n",
    "    Import and preprocess the dataset with the exact solution.\n",
    "    \"\"\"\n",
    "    \n",
    "    # Load the data:\n",
    "    data = np.load('heat_eq_data.npz')\n",
    "    \n",
    "    # Obtain the values for t, x, and the excat solution:\n",
    "    t, x, exact = data[\"t\"], data[\"x\"], data[\"usol\"].T\n",
    "    \n",
    "    # Process the data and flatten it out (like labels and features):\n",
    "    xx, tt = np.meshgrid(x, t)\n",
    "    X = np.vstack((np.ravel(xx), np.ravel(tt))).T\n",
    "    y = exact.flatten()[:, None]\n",
    "    \n",
    "    return X, y"
   ]
  },
  {
   "cell_type": "code",
   "execution_count": 5,
   "id": "89faa27b",
   "metadata": {},
   "outputs": [],
   "source": [
    "def main():\n",
    "\n",
    "    def pde(x, y):\n",
    "        \"\"\"\n",
    "        Expresses the PDE residual of the heat equation.        \n",
    "        \"\"\"\n",
    "        dy_t = dde.grad.jacobian(y, x, i=0, j=1)\n",
    "        dy_xx = dde.grad.hessian(y, x, i=0, j=0)\n",
    "        return dy_t - a*dy_xx\n",
    "\n",
    "    # Computational geometry:\n",
    "    geom = dde.geometry.Interval(0, L)\n",
    "    timedomain = dde.geometry.TimeDomain(0, 1)\n",
    "    geomtime = dde.geometry.GeometryXTime(geom, timedomain)\n",
    "\n",
    "    # Initial and boundary conditions:\n",
    "    bc = dde.icbc.DirichletBC(geomtime, lambda x: 0, lambda _, on_boundary: on_boundary)\n",
    "    ic = dde.icbc.IC(\n",
    "        geomtime, lambda x: np.sin(n*np.pi*x[:, 0:1]/L), lambda _, on_initial: on_initial\n",
    "        )\n",
    "\n",
    "    # Define the PDE problem and configurations of the network:\n",
    "    data = dde.data.TimePDE(\n",
    "        geomtime, pde, [bc, ic], num_domain=2540, num_boundary=80, num_initial=160, num_test=2540\n",
    "    )\n",
    "    net = dde.nn.FNN([2] + [20] * 3 + [1], \"tanh\", \"Glorot normal\")\n",
    "    model = dde.Model(data, net)\n",
    "\n",
    "    # Build and train the model:\n",
    "    model.compile(\"sgdm nesterov\", lr=1e-3)\n",
    "    model.train(epochs=20000)\n",
    "    model.compile(\"L-BFGS\")\n",
    "    losshistory, train_state = model.train()\n",
    "\n",
    "    # Plot/print the results\n",
    "    dde.saveplot(losshistory, train_state, issave=True, isplot=True)\n",
    "    X, y_true = gen_testdata()\n",
    "    y_pred = model.predict(X)\n",
    "    f = model.predict(X, operator=pde)\n",
    "    print(\"Mean residual:\", np.mean(np.absolute(f)))\n",
    "    print(\"L2 relative error:\", dde.metrics.l2_relative_error(y_true, y_pred))\n",
    "    np.savetxt(\"test.dat\", np.hstack((X, y_true, y_pred)))"
   ]
  },
  {
   "cell_type": "code",
   "execution_count": 6,
   "id": "74151086",
   "metadata": {},
   "outputs": [
    {
     "name": "stderr",
     "output_type": "stream",
     "text": [
      "/tmp/ipykernel_8908/755250868.py:21: DeprecationWarning: Conversion of an array with ndim > 0 to a scalar is deprecated, and will error in future. Ensure you extract a single element from your array before performing this operation. (Deprecated NumPy 1.25.)\n",
      "  usol[i][j] = heat_eq_exact_solution(x[i],t[j])\n"
     ]
    },
    {
     "name": "stdout",
     "output_type": "stream",
     "text": [
      "Warning: 2540 points required, but 2550 points sampled.\n",
      "Compiling model...\n",
      "'compile' took 0.000474 s\n",
      "\n"
     ]
    },
    {
     "name": "stderr",
     "output_type": "stream",
     "text": [
      "/home/ruslan/anaconda3/lib/python3.9/site-packages/skopt/sampler/sobol.py:246: UserWarning: The balance properties of Sobol' points require n to be a power of 2. 0 points have been previously generated, then: n=0+2542=2542. \n",
      "  warnings.warn(\"The balance properties of Sobol' points require \"\n",
      "/home/ruslan/anaconda3/lib/python3.9/site-packages/skopt/sampler/sobol.py:246: UserWarning: The balance properties of Sobol' points require n to be a power of 2. 0 points have been previously generated, then: n=0+82=82. \n",
      "  warnings.warn(\"The balance properties of Sobol' points require \"\n",
      "/home/ruslan/anaconda3/lib/python3.9/site-packages/skopt/sampler/sobol.py:246: UserWarning: The balance properties of Sobol' points require n to be a power of 2. 0 points have been previously generated, then: n=0+162=162. \n",
      "  warnings.warn(\"The balance properties of Sobol' points require \"\n",
      "2024-08-14 20:14:18.586669: W tensorflow/stream_executor/platform/default/dso_loader.cc:64] Could not load dynamic library 'libcuda.so.1'; dlerror: libcuda.so.1: cannot open shared object file: No such file or directory\n",
      "2024-08-14 20:14:18.586705: W tensorflow/stream_executor/cuda/cuda_driver.cc:269] failed call to cuInit: UNKNOWN ERROR (303)\n",
      "2024-08-14 20:14:18.586721: I tensorflow/stream_executor/cuda/cuda_diagnostics.cc:156] kernel driver does not appear to be running on this host (ruslan-Inspiron-5770): /proc/driver/nvidia/version does not exist\n",
      "2024-08-14 20:14:18.586901: I tensorflow/core/platform/cpu_feature_guard.cc:151] This TensorFlow binary is optimized with oneAPI Deep Neural Network Library (oneDNN) to use the following CPU instructions in performance-critical operations:  AVX2 FMA\n",
      "To enable them in other operations, rebuild TensorFlow with the appropriate compiler flags.\n"
     ]
    },
    {
     "name": "stdout",
     "output_type": "stream",
     "text": [
      "Training model...\n",
      "\n",
      "WARNING:tensorflow:AutoGraph could not transform <function main.<locals>.<lambda> at 0x7efc6ce499d0> and will run it as-is.\n",
      "Cause: could not parse the source code of <function main.<locals>.<lambda> at 0x7efc6ce499d0>: no matching AST found among candidates:\n",
      "# coding=utf-8\n",
      "lambda x, on: np.array([on_boundary(x[i], on[i]) for i in range(len(x))])\n",
      "To silence this warning, decorate the function with @tf.autograph.experimental.do_not_convert\n",
      "WARNING: AutoGraph could not transform <function main.<locals>.<lambda> at 0x7efc6ce499d0> and will run it as-is.\n",
      "Cause: could not parse the source code of <function main.<locals>.<lambda> at 0x7efc6ce499d0>: no matching AST found among candidates:\n",
      "# coding=utf-8\n",
      "lambda x, on: np.array([on_boundary(x[i], on[i]) for i in range(len(x))])\n",
      "To silence this warning, decorate the function with @tf.autograph.experimental.do_not_convert\n",
      "WARNING:tensorflow:AutoGraph could not transform <function main.<locals>.<lambda> at 0x7efc6ce49c10> and will run it as-is.\n",
      "Cause: could not parse the source code of <function main.<locals>.<lambda> at 0x7efc6ce49c10>: no matching AST found among candidates:\n",
      "# coding=utf-8\n",
      "lambda x, on: np.array([on_boundary(x[i], on[i]) for i in range(len(x))])\n",
      "To silence this warning, decorate the function with @tf.autograph.experimental.do_not_convert\n",
      "WARNING: AutoGraph could not transform <function main.<locals>.<lambda> at 0x7efc6ce49c10> and will run it as-is.\n",
      "Cause: could not parse the source code of <function main.<locals>.<lambda> at 0x7efc6ce49c10>: no matching AST found among candidates:\n",
      "# coding=utf-8\n",
      "lambda x, on: np.array([on_boundary(x[i], on[i]) for i in range(len(x))])\n",
      "To silence this warning, decorate the function with @tf.autograph.experimental.do_not_convert\n",
      "Step      Train loss                        Test loss                         Test metric\n",
      "0         [2.68e-01, 1.20e-01, 5.95e-01]    [2.62e-01, 1.20e-01, 5.95e-01]    []  \n",
      "1000      [8.44e-03, 8.18e-03, 1.79e-02]    [5.84e-03, 8.18e-03, 1.79e-02]    []  \n",
      "2000      [7.94e-04, 4.17e-04, 4.55e-04]    [5.60e-04, 4.17e-04, 4.55e-04]    []  \n",
      "3000      [2.42e-04, 1.24e-04, 1.01e-04]    [1.58e-04, 1.24e-04, 1.01e-04]    []  \n",
      "4000      [1.55e-04, 6.29e-05, 4.75e-05]    [9.36e-05, 6.29e-05, 4.75e-05]    []  \n",
      "5000      [1.28e-04, 4.53e-05, 3.42e-05]    [7.62e-05, 4.53e-05, 3.42e-05]    []  \n",
      "6000      [1.13e-04, 3.58e-05, 2.75e-05]    [6.65e-05, 3.58e-05, 2.75e-05]    []  \n",
      "7000      [1.02e-04, 2.90e-05, 2.29e-05]    [5.97e-05, 2.90e-05, 2.29e-05]    []  \n",
      "8000      [9.45e-05, 2.36e-05, 1.93e-05]    [5.43e-05, 2.36e-05, 1.93e-05]    []  \n",
      "9000      [8.82e-05, 1.94e-05, 1.64e-05]    [5.00e-05, 1.94e-05, 1.64e-05]    []  \n",
      "10000     [8.30e-05, 1.60e-05, 1.41e-05]    [4.64e-05, 1.60e-05, 1.41e-05]    []  \n",
      "11000     [7.86e-05, 1.34e-05, 1.21e-05]    [4.34e-05, 1.34e-05, 1.21e-05]    []  \n",
      "12000     [7.48e-05, 1.12e-05, 1.05e-05]    [4.08e-05, 1.12e-05, 1.05e-05]    []  \n",
      "13000     [7.14e-05, 9.46e-06, 9.21e-06]    [3.86e-05, 9.46e-06, 9.21e-06]    []  \n",
      "14000     [6.84e-05, 8.05e-06, 8.09e-06]    [3.66e-05, 8.05e-06, 8.09e-06]    []  \n",
      "15000     [6.56e-05, 6.88e-06, 7.15e-06]    [3.49e-05, 6.88e-06, 7.15e-06]    []  \n",
      "16000     [6.31e-05, 5.93e-06, 6.34e-06]    [3.34e-05, 5.93e-06, 6.34e-06]    []  \n",
      "17000     [6.07e-05, 5.13e-06, 5.65e-06]    [3.20e-05, 5.13e-06, 5.65e-06]    []  \n",
      "18000     [5.86e-05, 4.46e-06, 5.06e-06]    [3.07e-05, 4.46e-06, 5.06e-06]    []  \n",
      "19000     [5.65e-05, 3.90e-06, 4.55e-06]    [2.96e-05, 3.90e-06, 4.55e-06]    []  \n",
      "20000     [5.46e-05, 3.42e-06, 4.11e-06]    [2.85e-05, 3.42e-06, 4.11e-06]    []  \n",
      "\n",
      "Best model at step 20000:\n",
      "  train loss: 6.21e-05\n",
      "  test loss: 3.60e-05\n",
      "  test metric: []\n",
      "\n",
      "'train' took 94.345469 s\n",
      "\n",
      "Compiling model...\n",
      "'compile' took 0.022945 s\n",
      "\n",
      "Training model...\n",
      "\n",
      "Step      Train loss                        Test loss                         Test metric\n",
      "20000     [5.46e-05, 3.42e-06, 4.11e-06]    [2.85e-05, 3.42e-06, 4.11e-06]    []  \n",
      "\n",
      "Best model at step 20243:\n",
      "  train loss: 1.58e-06\n",
      "  test loss: 1.27e-06\n",
      "  test metric: []\n",
      "\n",
      "'train' took 30.294648 s\n",
      "\n",
      "Saving loss history to /home/ruslan/Музыка/DeepXDE/deepxde-master/loss.dat ...\n",
      "Saving training data to /home/ruslan/Музыка/DeepXDE/deepxde-master/train.dat ...\n",
      "Saving test data to /home/ruslan/Музыка/DeepXDE/deepxde-master/test.dat ...\n"
     ]
    },
    {
     "data": {
      "image/png": "[encoded data removed]",
      "text/plain": [
       "<Figure size 432x288 with 1 Axes>"
      ]
     },
     "metadata": {
      "needs_background": "light"
     },
     "output_type": "display_data"
    },
    {
     "data": {
      "image/png": "[encoded data removed]",
      "text/plain": [
       "<Figure size 432x288 with 1 Axes>"
      ]
     },
     "metadata": {
      "needs_background": "light"
     },
     "output_type": "display_data"
    },
    {
     "name": "stdout",
     "output_type": "stream",
     "text": [
      "Mean residual: 0.00083954766\n",
      "L2 relative error: 0.0008576535576426467\n"
     ]
    }
   ],
   "source": [
    "if __name__ == \"__main__\":\n",
    "\n",
    "    # Problem parameters:\n",
    "    a = 0.4 # Thermal diffusivity\n",
    "    L = 1 # Length of the bar\n",
    "    n = 1 # Frequency of the sinusoidal initial conditions\n",
    "\n",
    "    # Generate a dataset with the exact solution (if you dont have one):\n",
    "    gen_exact_solution()\n",
    "\n",
    "    # Solve the equation:\n",
    "    main()"
   ]
  },
  {
   "cell_type": "code",
   "execution_count": null,
   "id": "01e42a6f",
   "metadata": {},
   "outputs": [],
   "source": []
  }
 ],
 "metadata": {
  "kernelspec": {
   "display_name": "Python 3 (ipykernel)",
   "language": "python",
   "name": "python3"
  },
  "language_info": {
   "codemirror_mode": {
    "name": "ipython",
    "version": 3
   },
   "file_extension": ".py",
   "mimetype": "text/x-python",
   "name": "python",
   "nbconvert_exporter": "python",
   "pygments_lexer": "ipython3",
   "version": "3.9.7"
  }
 },
 "nbformat": 4,
 "nbformat_minor": 5
}
